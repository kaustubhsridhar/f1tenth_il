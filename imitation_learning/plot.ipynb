{
 "cells": [
  {
   "cell_type": "code",
   "execution_count": 1,
   "metadata": {},
   "outputs": [
    {
     "data": {
      "application/vnd.jupyter.widget-view+json": {
       "model_id": "db56d02bf0894c648709944b0b8de730",
       "version_major": 2,
       "version_minor": 0
      },
      "text/plain": [
       "interactive(children=(IntSlider(value=-55, description='x_lo', max=55, min=-165), IntSlider(value=5, descripti…"
      ]
     },
     "metadata": {},
     "output_type": "display_data"
    },
    {
     "data": {
      "application/vnd.jupyter.widget-view+json": {
       "model_id": "a364a53982764b5c9b045cc7983746e0",
       "version_major": 2,
       "version_minor": 0
      },
      "text/plain": [
       "interactive(children=(IntSlider(value=-2, description='x_lo', max=2, min=-6), IntSlider(value=10, description=…"
      ]
     },
     "metadata": {},
     "output_type": "display_data"
    },
    {
     "data": {
      "text/plain": [
       "<function plot_utils.plot_experts(x_lo, x_up, y_lo, y_up, map_name='config_example_map', vgain_scales=[0.5, 1.0, 2.0, 3.0])>"
      ]
     },
     "execution_count": 1,
     "metadata": {},
     "output_type": "execute_result"
    }
   ],
   "source": [
    "from plot_utils import plot_experts\n",
    "from ipywidgets import interact, fixed, IntSlider, FloatSlider\n",
    "\n",
    "interact(plot_experts, x_lo = -55, x_up = 5, y_lo = -15, y_up = 30, map_name = fixed('config_example_map'), vgain_scales=fixed([0.5, 1.0, 1.5, 2.0]))\n",
    "interact(plot_experts, x_lo = -2, x_up = 10, y_lo = -2, y_up = 25, map_name = fixed('levine2nd_config'), vgain_scales=fixed([0.5, 1.0, 1.5]))"
   ]
  },
  {
   "cell_type": "code",
   "execution_count": null,
   "metadata": {},
   "outputs": [],
   "source": []
  }
 ],
 "metadata": {
  "kernelspec": {
   "display_name": "DL_env",
   "language": "python",
   "name": "python3"
  },
  "language_info": {
   "codemirror_mode": {
    "name": "ipython",
    "version": 3
   },
   "file_extension": ".py",
   "mimetype": "text/x-python",
   "name": "python",
   "nbconvert_exporter": "python",
   "pygments_lexer": "ipython3",
   "version": "3.8.10"
  },
  "orig_nbformat": 4,
  "vscode": {
   "interpreter": {
    "hash": "73302788fb12289d29bcef63b5df0f663474332c7b33285caf296f7d13e1ceb2"
   }
  }
 },
 "nbformat": 4,
 "nbformat_minor": 2
}
